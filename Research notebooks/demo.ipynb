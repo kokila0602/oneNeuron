{
 "cells": [
  {
   "cell_type": "code",
   "execution_count": 4,
   "source": [
    "import numpy as np"
   ],
   "outputs": [],
   "metadata": {}
  },
  {
   "cell_type": "code",
   "execution_count": 6,
   "source": [
    "from utils.model import Perceptron\r\n",
    "from utils.all_utils import prepare_data, save_plot, save_model\r\n",
    "import pandas as pd\r\n",
    "\r\n",
    "\r\n",
    "def main(data, modelName, plotName, eta, epochs):\r\n",
    "    df = pd.DataFrame(data)\r\n",
    "    print(df)\r\n",
    "    X, y = prepare_data(df)\r\n",
    "    model = Perceptron(eta=eta, epochs=epochs)\r\n",
    "    model.fit(X, y)\r\n",
    "    _ = model.total_loss()\r\n",
    "    save_model(model, filename=modelName)\r\n",
    "    save_plot(df, plotName, model)\r\n",
    "\r\n",
    "if __name__ == '__main__':\r\n",
    "    AND = {\r\n",
    "        \"x1\": [0,0,1,1],\r\n",
    "        \"x2\": [0,1,0,1],\r\n",
    "        \"y\": [0,0,0,1],\r\n",
    "    }\r\n",
    "    ETA = 0.3 # 0 and 1\r\n",
    "    EPOCHS = 10\r\n",
    "    main(data=AND, modelName=\"and.model\", plotName=\"and.png\", eta=ETA, epochs=EPOCHS)"
   ],
   "outputs": [
    {
     "output_type": "error",
     "ename": "ModuleNotFoundError",
     "evalue": "No module named 'utils'",
     "traceback": [
      "\u001b[1;31m---------------------------------------------------------------------------\u001b[0m",
      "\u001b[1;31mModuleNotFoundError\u001b[0m                       Traceback (most recent call last)",
      "\u001b[1;32mC:\\Users\\HARSHI~1\\AppData\\Local\\Temp/ipykernel_14172/4269426256.py\u001b[0m in \u001b[0;36m<module>\u001b[1;34m\u001b[0m\n\u001b[1;32m----> 1\u001b[1;33m \u001b[1;32mfrom\u001b[0m \u001b[0mutils\u001b[0m\u001b[1;33m.\u001b[0m\u001b[0mmodel\u001b[0m \u001b[1;32mimport\u001b[0m \u001b[0mPerceptron\u001b[0m\u001b[1;33m\u001b[0m\u001b[0m\n\u001b[0m\u001b[0;32m      2\u001b[0m \u001b[1;32mfrom\u001b[0m \u001b[0mutils\u001b[0m\u001b[1;33m.\u001b[0m\u001b[0mall_utils\u001b[0m \u001b[1;32mimport\u001b[0m \u001b[0mprepare_data\u001b[0m\u001b[1;33m,\u001b[0m \u001b[0msave_plot\u001b[0m\u001b[1;33m,\u001b[0m \u001b[0msave_model\u001b[0m\u001b[1;33m\u001b[0m\u001b[0m\n\u001b[0;32m      3\u001b[0m \u001b[1;32mimport\u001b[0m \u001b[0mpandas\u001b[0m \u001b[1;32mas\u001b[0m \u001b[0mpd\u001b[0m\u001b[1;33m\u001b[0m\u001b[0m\n\u001b[0;32m      4\u001b[0m \u001b[1;33m\u001b[0m\u001b[0m\n\u001b[0;32m      5\u001b[0m \u001b[1;33m\u001b[0m\u001b[0m\n",
      "\u001b[1;31mModuleNotFoundError\u001b[0m: No module named 'utils'"
     ]
    }
   ],
   "metadata": {}
  }
 ],
 "metadata": {
  "kernelspec": {
   "name": "python3",
   "display_name": "Python 3.7.0 64-bit ('oneNeuron': conda)"
  },
  "language_info": {
   "codemirror_mode": {
    "name": "ipython",
    "version": 3
   },
   "file_extension": ".py",
   "mimetype": "text/x-python",
   "name": "python",
   "nbconvert_exporter": "python",
   "pygments_lexer": "ipython3",
   "version": "3.7.0"
  },
  "interpreter": {
   "hash": "5531db8cfdcfeb7358c0f8186655bd34087502261e1623233114a7f932120211"
  }
 },
 "nbformat": 4,
 "nbformat_minor": 5
}